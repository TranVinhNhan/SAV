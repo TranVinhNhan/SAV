{
 "cells": [
  {
   "cell_type": "code",
   "execution_count": 1,
   "metadata": {},
   "outputs": [],
   "source": [
    "#import library\n",
    "import numpy as np\n",
    "import pandas as pd\n",
    "from pyvi import ViTokenizer\n",
    "import glob"
   ]
  },
  {
   "cell_type": "code",
   "execution_count": 2,
   "metadata": {},
   "outputs": [],
   "source": [
    "df = pd.DataFrame()"
   ]
  },
  {
   "cell_type": "code",
   "execution_count": 3,
   "metadata": {},
   "outputs": [],
   "source": [
    "neg_paths = glob.glob(\"./neg/*.txt\")\n",
    "comments = []\n",
    "for path in neg_paths :\n",
    "  with open(path,encoding=\"utf-8\") as file:\n",
    "      text= file.read()\n",
    "      text_lower = text.lower()\n",
    "      text_token = ViTokenizer.tokenize(text_lower)\n",
    "      comments.append(text_token)\n",
    "  file.close()"
   ]
  },
  {
   "cell_type": "code",
   "execution_count": 4,
   "metadata": {},
   "outputs": [
    {
     "name": "stdout",
     "output_type": "stream",
     "text": [
      "được bạn tặng cái voucher ăn buffet trưa và mua 6 bánh mochi ở đây . dùng xong rất thất_vọng . buffet thì khoảng 20 món , trong đó là tính cả khoai_tây chiên , rau cải ... nói thời_gian mở buffet 11h30 nhưng đến_nơi thì 12 giờ mới lên đủ món . gọi nước suối thì không có , trong khi menu ghi rõ có nước suối . em phục_vụ nói nước suối không dùng cho voucher . phân_biệt với voucher vậy_thì đừng bán . mà cũng chưa từng thấy nhà_hàng nào như_vậy . bánh mochi mua về thì cứng ngắt cứng_còng , đem bỏ hết . ăn trôi nước 3k một viên còn mềm_dẻo hơn nhiều . phụ vụ thì khó_chịu . khách chưa về thì đã dọn bàn ý_muốn đuổi khách . đây là địa_điểm tệ nhất đã từng đến ăn , không xứng_đáng với giá tiền . nhất_định sẽ không_bao_giờ quay lại .\n"
     ]
    }
   ],
   "source": [
    "print(comments[12909])"
   ]
  },
  {
   "cell_type": "code",
   "execution_count": 5,
   "metadata": {},
   "outputs": [
    {
     "data": {
      "text/plain": [
       "15000"
      ]
     },
     "execution_count": 5,
     "metadata": {},
     "output_type": "execute_result"
    }
   ],
   "source": [
    "len(comments)"
   ]
  },
  {
   "cell_type": "code",
   "execution_count": 7,
   "metadata": {},
   "outputs": [],
   "source": [
    "for comment in comments :\n",
    "    df = df.append({'text' : comment, 'sentiment' : 'negative'}, ignore_index=True)"
   ]
  },
  {
   "cell_type": "code",
   "execution_count": 8,
   "metadata": {},
   "outputs": [
    {
     "data": {
      "text/html": [
       "<div>\n",
       "<style scoped>\n",
       "    .dataframe tbody tr th:only-of-type {\n",
       "        vertical-align: middle;\n",
       "    }\n",
       "\n",
       "    .dataframe tbody tr th {\n",
       "        vertical-align: top;\n",
       "    }\n",
       "\n",
       "    .dataframe thead th {\n",
       "        text-align: right;\n",
       "    }\n",
       "</style>\n",
       "<table border=\"1\" class=\"dataframe\">\n",
       "  <thead>\n",
       "    <tr style=\"text-align: right;\">\n",
       "      <th></th>\n",
       "      <th>sentiment</th>\n",
       "      <th>text</th>\n",
       "    </tr>\n",
       "  </thead>\n",
       "  <tbody>\n",
       "    <tr>\n",
       "      <th>0</th>\n",
       "      <td>negative</td>\n",
       "      <td>mua có mỗi bingsu thập_cẩm 45k mà mình f đợi h...</td>\n",
       "    </tr>\n",
       "    <tr>\n",
       "      <th>1</th>\n",
       "      <td>negative</td>\n",
       "      <td>thứ 6 nào ta cùng quẩy 💣 💣 💣 vuvuzela beer clu...</td>\n",
       "    </tr>\n",
       "    <tr>\n",
       "      <th>2</th>\n",
       "      <td>negative</td>\n",
       "      <td>mình đi với nhóm , tổng_cộng 4 người ăn chỉ có...</td>\n",
       "    </tr>\n",
       "    <tr>\n",
       "      <th>3</th>\n",
       "      <td>negative</td>\n",
       "      <td>nhân_viên phục_vụ không mấy tận_tình , đồ_ăn r...</td>\n",
       "    </tr>\n",
       "    <tr>\n",
       "      <th>4</th>\n",
       "      <td>negative</td>\n",
       "      <td>vào đây thì hết bàn , nhưng mình vẫn ngồi đợi ...</td>\n",
       "    </tr>\n",
       "    <tr>\n",
       "      <th>...</th>\n",
       "      <td>...</td>\n",
       "      <td>...</td>\n",
       "    </tr>\n",
       "    <tr>\n",
       "      <th>14995</th>\n",
       "      <td>negative</td>\n",
       "      <td>đi lần 2 cảm_thấy khá ổn nhân_viên có_vẻ chuyê...</td>\n",
       "    </tr>\n",
       "    <tr>\n",
       "      <th>14996</th>\n",
       "      <td>negative</td>\n",
       "      <td>buffet sáng rất dở toàn đồ_ăn rẻ_tiền k xứng t...</td>\n",
       "    </tr>\n",
       "    <tr>\n",
       "      <th>14997</th>\n",
       "      <td>negative</td>\n",
       "      <td>công_nhận ăn thi ngon_miệng thật đấy nhưng cái...</td>\n",
       "    </tr>\n",
       "    <tr>\n",
       "      <th>14998</th>\n",
       "      <td>negative</td>\n",
       "      <td>vô tới đây hem ai để ý_đồ uống hay gì nữa đâu ...</td>\n",
       "    </tr>\n",
       "    <tr>\n",
       "      <th>14999</th>\n",
       "      <td>negative</td>\n",
       "      <td>vào đây ngồi đợi mà chẳng ai đưa được_cái menu...</td>\n",
       "    </tr>\n",
       "  </tbody>\n",
       "</table>\n",
       "<p>15000 rows × 2 columns</p>\n",
       "</div>"
      ],
      "text/plain": [
       "      sentiment                                               text\n",
       "0      negative  mua có mỗi bingsu thập_cẩm 45k mà mình f đợi h...\n",
       "1      negative  thứ 6 nào ta cùng quẩy 💣 💣 💣 vuvuzela beer clu...\n",
       "2      negative  mình đi với nhóm , tổng_cộng 4 người ăn chỉ có...\n",
       "3      negative  nhân_viên phục_vụ không mấy tận_tình , đồ_ăn r...\n",
       "4      negative  vào đây thì hết bàn , nhưng mình vẫn ngồi đợi ...\n",
       "...         ...                                                ...\n",
       "14995  negative  đi lần 2 cảm_thấy khá ổn nhân_viên có_vẻ chuyê...\n",
       "14996  negative  buffet sáng rất dở toàn đồ_ăn rẻ_tiền k xứng t...\n",
       "14997  negative  công_nhận ăn thi ngon_miệng thật đấy nhưng cái...\n",
       "14998  negative  vô tới đây hem ai để ý_đồ uống hay gì nữa đâu ...\n",
       "14999  negative  vào đây ngồi đợi mà chẳng ai đưa được_cái menu...\n",
       "\n",
       "[15000 rows x 2 columns]"
      ]
     },
     "execution_count": 8,
     "metadata": {},
     "output_type": "execute_result"
    }
   ],
   "source": [
    "df"
   ]
  },
  {
   "cell_type": "code",
   "execution_count": 9,
   "metadata": {},
   "outputs": [],
   "source": [
    "neg_paths = glob.glob(\"./pos/*.txt\")\n",
    "pos_comments = []\n",
    "for path in neg_paths :\n",
    "  with open(path,encoding=\"utf-8\") as file:\n",
    "      text= file.read()\n",
    "      text_lower = text.lower()\n",
    "      text_token = ViTokenizer.tokenize(text_lower)\n",
    "      pos_comments.append(text_token)\n",
    "  file.close()"
   ]
  },
  {
   "cell_type": "code",
   "execution_count": null,
   "metadata": {},
   "outputs": [],
   "source": [
    "len()"
   ]
  }
 ],
 "metadata": {
  "kernelspec": {
   "display_name": "Python 3",
   "language": "python",
   "name": "python3"
  },
  "language_info": {
   "codemirror_mode": {
    "name": "ipython",
    "version": 3
   },
   "file_extension": ".py",
   "mimetype": "text/x-python",
   "name": "python",
   "nbconvert_exporter": "python",
   "pygments_lexer": "ipython3",
   "version": "3.7.6"
  }
 },
 "nbformat": 4,
 "nbformat_minor": 4
}
